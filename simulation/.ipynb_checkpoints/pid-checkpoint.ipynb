{
 "cells": [
  {
   "cell_type": "markdown",
   "metadata": {},
   "source": [
    "# Introduction\n",
    "\n",
    "This program simulates a PID line follower's behavior on a virtual track given as a csv file. The line follower can be tuned manually by adjusting the PID constants or automatically with scipy, and the results can be observed on a plot."
   ]
  },
  {
   "cell_type": "code",
   "execution_count": 104,
   "metadata": {},
   "outputs": [],
   "source": [
    "import numpy as np\n",
    "import pandas as pd\n",
    "import matplotlib.pyplot as plt\n",
    "from paths import Node\n",
    "from paths import Path\n",
    "from paths import pathsIntersect\n",
    "import time "
   ]
  },
  {
   "cell_type": "markdown",
   "metadata": {},
   "source": [
    "# Constants\n",
    "\n",
    "Physical attributes of the line follower and track can be adjusted to reflect real world conditions. In this case they were usen to simplify and speed up the simulation. PID constants can also be tuned to improve performance."
   ]
  },
  {
   "cell_type": "code",
   "execution_count": 105,
   "metadata": {},
   "outputs": [],
   "source": [
    "#physical constants \n",
    "L = 15 #length of sensor array \n",
    "W = 20 #width of the car \n",
    "V = 2 #speed \n",
    "B = 1 #baud rate \n",
    "VB = V/B #speed distance/cycle\n",
    "maxE = 0.5*L\n",
    "\n",
    "#load the track\n",
    "df = pd.read_csv(\"track.csv\")\n",
    "TX = np.array(df[\"X\"].to_list())\n",
    "TY = np.array(df[\"Y\"].to_list())\n",
    "\n",
    "#track constants\n",
    "target = [261, -12] #destination position\n",
    "pos = [0,-12] #car starting position\n",
    "heading = np.pi/2 #initial heading\n",
    "startDist = 261 #initial distance from destination\n",
    "\n",
    "#runtime constants\n",
    "maxTime = 1 #maximum runtime seconds\n",
    "maxDist = 1 #maximum distance from destination\n",
    "\n",
    "#PID constants\n",
    "KP = (np.pi)*(W/2)/(0.5*L)\n",
    "KI = 0\n",
    "KD = 0.05*KP"
   ]
  },
  {
   "cell_type": "markdown",
   "metadata": {},
   "source": [
    "# Control Functions\n",
    "\n",
    "The heading (theta), speed (v), and position (p) of the line follower are found below. The track and line follower position are described in cartesian coordinates, but the instantaneous velocity of the line follower is described in polar coordinates. The vertical (y axis) of the caresian coordinate system of the track is set to pi/2 radians in the polar coordinates of the line follower. "
   ]
  },
  {
   "cell_type": "code",
   "execution_count": 106,
   "metadata": {},
   "outputs": [],
   "source": [
    "#heading of car\n",
    "def theta(vdiff, heading):\n",
    "    heading += (2/W)*vdiff\n",
    "    return heading\n",
    "\n",
    "#velocity vector of car\n",
    "def v(heading):\n",
    "    return VB*np.cos(heading),  VB*np.sin(heading)\n",
    "\n",
    "#coordinates of car\n",
    "def p(heading, pos):\n",
    "    x, y = v(heading)\n",
    "    pos[0] = pos[0] + x\n",
    "    pos[1] = pos[1] + y\n",
    "    return pos[0], pos[1]\n"
   ]
  },
  {
   "cell_type": "markdown",
   "metadata": {},
   "source": [
    "# Error function\n",
    "\n",
    "Error is defined as the difference between the position of the center of the line follower and the point on the track at which the sensor array intersects it. This defintiion does not account for a two dimensional, discontinuous track, so some adjustments are made.\n",
    "\n",
    "- The track and line follower are rotated in the opposite direction of the line follower's heading such that the sensor array lies on the horizontal axis.\n",
    "- Points on the track that are beyond the reach of the sensor array are disregarded.\n",
    "- A line is drawn between the two points on the track that are closest to the sensor array to represent a continuous piece of track\n",
    "- The point of intersection between that line and the sensor array is found\n",
    "- error is found simply by subtracting the y-coordinate of the the point of intersection from that of the center of the line follower\n"
   ]
  },
  {
   "cell_type": "code",
   "execution_count": 107,
   "metadata": {},
   "outputs": [],
   "source": [
    "#rotate point \n",
    "def rotate(px, py, cx, cy, heading):\n",
    "    ox = cx\n",
    "    oy = cy\n",
    "    qx = ox + np.cos(heading) * (px - ox) - np.sin(heading) * (py - oy)\n",
    "    qy = oy + np.sin(heading) * (px - ox) + np.cos(heading) * (py - oy)\n",
    "    return qx, qy\n",
    "\n",
    "#error function\n",
    "def err(pos, heading):\n",
    "\n",
    "    maxE = 0.5*L\n",
    "    phi =  heading - 0.5*np.pi\n",
    "    cx = pos[0]\n",
    "    cy = pos[1]\n",
    "    ax = cx + 0.5*L*np.cos(phi)\n",
    "    ay = cx + 0.5*L*np.sin(phi)\n",
    "    bx = cx - 0.5*L*np.cos(phi)\n",
    "    by = cx - 0.5*L*np.sin(phi)\n",
    "\n",
    "    #select points of interest\n",
    "    p1x = float('inf')\n",
    "    p1y = float('inf')\n",
    "    p2x = float('inf')\n",
    "    p2y = float('inf')\n",
    "\n",
    "    #rotate the entire track and crop out parts that are far from the car\n",
    "    rx = np.array([])\n",
    "    ry = np.array([])\n",
    "    for i in range(len(TX)):\n",
    "        dist = ( (cx - TX[i])**2 + (cy - TY[i])**2 )**0.5\n",
    "        if (dist < 0.5*L):\n",
    "            qx, qy = rotate(TX[i], TY[i], cx, cy, -1*phi)\n",
    "            rx = np.append(rx, qx)\n",
    "            ry = np.append(ry, qy)\n",
    "    \n",
    "    #if no points close to car, return max error\n",
    "    if len(rx) == 0 or len(ry) == 0:\n",
    "        return maxE\n",
    "    \n",
    "    #find the point of the track that the sensor intersects\n",
    "\n",
    "    temp = ry\n",
    "    i1 = np.argmin(abs(cy - temp))\n",
    "    temp[i1] = float('inf')\n",
    "    i2 = np.argmin(abs(cy - temp))\n",
    "\n",
    "    p1x = rx[i1]\n",
    "    p1y = ry[i1]\n",
    "    p2x = rx[i2]\n",
    "    p2y = ry[i2]\n",
    "\n",
    "    nodeA = Node(ax, ay)\n",
    "    nodeB = Node(bx, by)\n",
    "    node1 = Node(p1x, p1y)\n",
    "    node2 = Node(p2x, p2y)\n",
    "    pathSensor = Path(nodeA, nodeB)\n",
    "    pathTrack = Path(node1, node2)\n",
    "\n",
    "    intersect, ix, iy = pathsIntersect(pathSensor, pathTrack)\n",
    "    if not intersect: return maxE\n",
    "\n",
    "    #calculate and return the error\n",
    "    return cx - ix\n",
    "    "
   ]
  },
  {
   "cell_type": "markdown",
   "metadata": {},
   "source": [
    "# Implementation\n",
    "\n",
    "The error found above is implemented in the PID equation. The result of the PID equation (handled as a wheel speed difference, although it can be viewed as an adjustement to the heading of the line follower) is then used to adjust the line follower with the control functions. The track, line follower path, and the error are all plotted below."
   ]
  },
  {
   "cell_type": "code",
   "execution_count": 108,
   "metadata": {},
   "outputs": [
    {
     "name": "stderr",
     "output_type": "stream",
     "text": [
      "/Users/yassinkortam/Documents/GitHub/ece3_car/simulation/paths.py:16: RuntimeWarning: invalid value encountered in double_scalars\n",
      "  dy = self.node2.y_coord - self.node1.y_coord\n"
     ]
    },
    {
     "data": {
      "text/plain": [
       "<matplotlib.collections.PathCollection at 0x7f8000773040>"
      ]
     },
     "execution_count": 108,
     "metadata": {},
     "output_type": "execute_result"
    },
    {
     "data": {
      "image/png": "[encoded data removed]",
      "text/plain": [
       "<Figure size 432x288 with 1 Axes>"
      ]
     },
     "metadata": {
      "needs_background": "light"
     },
     "output_type": "display_data"
    },
    {
     "data": {
      "image/png": "[encoded data removed]",
      "text/plain": [
       "<Figure size 432x288 with 1 Axes>"
      ]
     },
     "metadata": {
      "needs_background": "light"
     },
     "output_type": "display_data"
    }
   ],
   "source": [
    "s = time.time() #record runtime\n",
    "\n",
    "dist = startDist #initialize distance from destination\n",
    "diff = 0 #initial wheel speed differebce\n",
    "prev_e = 0 #initialize derivative\n",
    "integral = 0 #initialize integral\n",
    "\n",
    "pos_x = np.array([])\n",
    "pos_y = np.array([])\n",
    "errs = np.array([])\n",
    "\n",
    "while(dist > maxDist and time.time() - s < maxTime):\n",
    "    #append the position history\n",
    "    pos_x = np.append(pos_x, pos[0])\n",
    "    pos_y = np.append(pos_y, pos[1])\n",
    "\n",
    "    #find the car position\n",
    "    heading = theta(diff, heading)\n",
    "    pos[0], pos[1] = p(heading, pos)\n",
    "   \n",
    "    #find error\n",
    "    e = err(pos, heading)\n",
    "    errs = np.append(errs, e)\n",
    "\n",
    "    #find wheel speed difference\n",
    "    prop = KP*e\n",
    "    int = KI*integral\n",
    "    der = KD*(e - prev_e)\n",
    "    diff = prop + int + der\n",
    "    \n",
    "    #update pid\n",
    "    integral += e\n",
    "    prev_e = e\n",
    "\n",
    "    #check distance from destination\n",
    "    dist = ((target[0] - pos[0])**2 + (target[1] - pos[1])**2)**0.5\n",
    "\n",
    "plt.figure()\n",
    "plt.title(\"PID Output\")\n",
    "plt.plot(TX, TY, label=\"Track\")  \n",
    "plt.plot(pos_x, pos_y, label=\"Path\")\n",
    "plt.legend()\n",
    "\n",
    "plt.figure()\n",
    "plt.title(\"PID Error\")\n",
    "plt.scatter(np.linspace(0, len(errs), len(errs)), errs)\n",
    "\n"
   ]
  }
 ],
 "metadata": {
  "kernelspec": {
   "display_name": "Python 3 (ipykernel)",
   "language": "python",
   "name": "python3"
  },
  "language_info": {
   "codemirror_mode": {
    "name": "ipython",
    "version": 3
   },
   "file_extension": ".py",
   "mimetype": "text/x-python",
   "name": "python",
   "nbconvert_exporter": "python",
   "pygments_lexer": "ipython3",
   "version": "3.9.2"
  },
  "vscode": {
   "interpreter": {
    "hash": "f57b2c1b34c765d8cfe5ecd95bf8bfcc93e9770866ccda479f013bf042f6c787"
   }
  }
 },
 "nbformat": 4,
 "nbformat_minor": 2
}
