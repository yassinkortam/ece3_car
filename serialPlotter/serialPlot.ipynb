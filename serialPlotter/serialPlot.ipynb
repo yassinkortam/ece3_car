{
 "cells": [
  {
   "cell_type": "markdown",
   "metadata": {},
   "source": [
    "# Plot Project Car Data in Real Time"
   ]
  },
  {
   "cell_type": "code",
   "execution_count": 39,
   "metadata": {},
   "outputs": [],
   "source": [
    "import serial\n",
    "import json\n",
    "from types import SimpleNamespace \n",
    "\n",
    "import numpy as np\n",
    "import matplotlib.pyplot as plt\n",
    "\n",
    "import time\n",
    "\n",
    "PORT = \"/dev/cu.usbmodemM43210051\"\n",
    "BAUD = 9600"
   ]
  },
  {
   "cell_type": "markdown",
   "metadata": {},
   "source": [
    "### Read Data\n",
    "\n",
    "Use the pySerial library to read data from USB serial and save it as an array.\n",
    "The data is in the form of a JSON object with the sensor outputs"
   ]
  },
  {
   "cell_type": "code",
   "execution_count": 40,
   "metadata": {},
   "outputs": [],
   "source": [
    "def getData():\n",
    "   \n",
    "    with serial.Serial(\n",
    "        PORT,\n",
    "        BAUD,\n",
    "        timeout=1,\n",
    "    ) as s:\n",
    "        while(True):\n",
    "            try:\n",
    "                dataRead = s.readline().decode(\"ASCII\")\n",
    "                if dataRead[0] != '{':\n",
    "                    continue\n",
    "                break\n",
    "            except(UnicodeDecodeError):\n",
    "                continue\n",
    "        print(dataRead)\n",
    "        data = json.loads(dataRead)\n",
    "        sensorData = np.array(data[\"sensor\"])\n",
    "        print(sensorData)\n",
    "        return sensorData\n"
   ]
  },
  {
   "cell_type": "markdown",
   "metadata": {},
   "source": [
    "### Plot Data\n",
    "\n",
    "Use matplotlib matshow to plot the array as a heatmap"
   ]
  },
  {
   "cell_type": "code",
   "execution_count": 41,
   "metadata": {},
   "outputs": [
    {
     "name": "stdout",
     "output_type": "stream",
     "text": [
      "{\"sensor\":[509,486,555,578,509,625,601,1714]}\n",
      "\n",
      "[ 509  486  555  578  509  625  601 1714]\n"
     ]
    },
    {
     "data": {
      "image/png": "[encoded data removed]",
      "text/plain": [
       "<Figure size 432x288 with 2 Axes>"
      ]
     },
     "metadata": {
      "needs_background": "light"
     },
     "output_type": "display_data"
    }
   ],
   "source": [
    "from IPython import display\n",
    "\n",
    "while(True):\n",
    "    display.clear_output(wait=True)\n",
    "    plt.figure()\n",
    "    plt.title(\"IR Sensor Output\")\n",
    "    data = np.expand_dims(getData(), axis=0)\n",
    "    color_map = plt.imshow(data)\n",
    "    color_map.set_cmap(\"Blues_r\")\n",
    "    plt.colorbar()\n",
    "    plt.show()\n"
   ]
  }
 ],
 "metadata": {
  "kernelspec": {
   "display_name": "Python 3.9.2 64-bit",
   "language": "python",
   "name": "python3"
  },
  "language_info": {
   "codemirror_mode": {
    "name": "ipython",
    "version": 3
   },
   "file_extension": ".py",
   "mimetype": "text/x-python",
   "name": "python",
   "nbconvert_exporter": "python",
   "pygments_lexer": "ipython3",
   "version": "3.9.2"
  },
  "orig_nbformat": 4,
  "vscode": {
   "interpreter": {
    "hash": "aee8b7b246df8f9039afb4144a1f6fd8d2ca17a180786b69acc140d282b71a49"
   }
  }
 },
 "nbformat": 4,
 "nbformat_minor": 2
}
