{
 "cells": [
  {
   "cell_type": "markdown",
   "metadata": {},
   "source": [
    "# Plot Project Car Data in Real Time"
   ]
  },
  {
   "cell_type": "code",
   "execution_count": null,
   "metadata": {},
   "outputs": [],
   "source": [
    "import numpy as np\n",
    "import matplotlib.pyplot as plt\n",
    "#from types import SimpleNamespace \n",
    "#import time\n",
    "\n",
    "PORT = \"/dev/cu.usbmodemM43210051\"\n",
    "BAUD = 9600"
   ]
  },
  {
   "cell_type": "markdown",
   "metadata": {},
   "source": [
    "### Read Data\n",
    "\n",
    "Use the pySerial library to read data from USB serial and save it as an array.\n",
    "The data is in the form of a JSON object with the sensor outputs"
   ]
  },
  {
   "cell_type": "code",
   "execution_count": null,
   "metadata": {},
   "outputs": [],
   "source": [
    "import serial\n",
    "import json\n",
    "\n",
    "class ReadChar:\n",
    "    def __init__(self, serial):\n",
    "        self.buff = []\n",
    "        self.serial = serial\n",
    "\n",
    "    def updateBuff(self):\n",
    "        for i in range(100):\n",
    "            b = self.serial.read()\n",
    "            while (True):\n",
    "                try:\n",
    "                    self.buff.append(b.decode('utf-8'))\n",
    "                    break\n",
    "                except(UnicodeDecodeError):\n",
    "                    b = self.serial.read()\n",
    "                    continue\n",
    "\n",
    "    def readChar(self):\n",
    "        if len(self.buff) == 0:\n",
    "            self.updateBuff()\n",
    "        char = self.buff[0]\n",
    "        self.buff = self.buff[1:]\n",
    "        return char\n",
    "\n",
    "def getData(s):\n",
    "    readChar = ReadChar(s)\n",
    "\n",
    "    dataRead = \"\"\n",
    "    char = readChar.readChar()\n",
    "\n",
    "    #keep reading until start marker is reached\n",
    "    while char != 'S':\n",
    "        char = readChar.readChar()\n",
    "\n",
    "    #read everything between start and end markers\n",
    "    if char == 'S':\n",
    "        while char != '{':\n",
    "            char = readChar.readChar()\n",
    "        while char != 'E':\n",
    "            dataRead += char\n",
    "            char = readChar.readChar()\n",
    "    \n",
    "    data = json.loads(dataRead)\n",
    "    sensorData = np.array(data[\"sensor\"])\n",
    "    return sensorData"
   ]
  },
  {
   "cell_type": "markdown",
   "metadata": {},
   "source": [
    "### Plot Data\n",
    "\n",
    "Use matplotlib matshow to plot the array as a heatmap"
   ]
  },
  {
   "cell_type": "code",
   "execution_count": null,
   "metadata": {},
   "outputs": [],
   "source": [
    "from IPython import display\n",
    "\n",
    "while(True):\n",
    "\n",
    "    data = getData(PORT, BAUD)\n",
    "    display.clear_output(wait=True)\n",
    "    plt.figure()\n",
    "    plt.title(\"IR Sensor Output\")\n",
    "    data = np.expand_dims(data, axis=0)\n",
    "    color_map = plt.imshow(data)\n",
    "    color_map.set_cmap(\"Blues_r\")\n",
    "    plt.colorbar()\n",
    "    plt.show()"
   ]
  }
 ],
 "metadata": {
  "kernelspec": {
   "display_name": "Python 3.9.2 64-bit",
   "language": "python",
   "name": "python3"
  },
  "language_info": {
   "codemirror_mode": {
    "name": "ipython",
    "version": 3
   },
   "file_extension": ".py",
   "mimetype": "text/x-python",
   "name": "python",
   "nbconvert_exporter": "python",
   "pygments_lexer": "ipython3",
   "version": "3.9.2 (v3.9.2:1a79785e3e, Feb 19 2021, 09:08:59) \n[Clang 12.0.0 (clang-1200.0.32.29)]"
  },
  "orig_nbformat": 4,
  "vscode": {
   "interpreter": {
    "hash": "aee8b7b246df8f9039afb4144a1f6fd8d2ca17a180786b69acc140d282b71a49"
   }
  }
 },
 "nbformat": 4,
 "nbformat_minor": 2
}
