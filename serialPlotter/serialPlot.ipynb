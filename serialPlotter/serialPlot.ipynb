{
 "cells": [
  {
   "cell_type": "markdown",
   "metadata": {},
   "source": [
    "# Plot Project Car Data in Real Time"
   ]
  },
  {
   "cell_type": "code",
   "execution_count": 39,
   "metadata": {},
   "outputs": [],
   "source": [
    "import serial\n",
    "import json\n",
    "from types import SimpleNamespace \n",
    "\n",
    "import numpy as np\n",
    "import matplotlib.pyplot as plt\n",
    "\n",
    "import time\n",
    "\n",
    "PORT = \"/dev/cu.usbmodemM43210051\"\n",
    "BAUD = 9600"
   ]
  },
  {
   "cell_type": "markdown",
   "metadata": {},
   "source": [
    "### Read Data\n",
    "\n",
    "Use the pySerial library to read data from USB serial and save it as an array.\n",
    "The data is in the form of a JSON object with the sensor outputs"
   ]
  },
  {
   "cell_type": "code",
   "execution_count": 40,
   "metadata": {},
   "outputs": [],
   "source": [
    "def getData():\n",
    "   \n",
    "    with serial.Serial(\n",
    "        PORT,\n",
    "        BAUD,\n",
    "        timeout=1,\n",
    "    ) as s:\n",
    "        while(True):\n",
    "            try:\n",
    "                dataRead = s.readline().decode(\"ASCII\")\n",
    "                if dataRead[0] != '{':\n",
    "                    continue\n",
    "                break\n",
    "            except(UnicodeDecodeError):\n",
    "                continue\n",
    "        print(dataRead)\n",
    "        data = json.loads(dataRead)\n",
    "        sensorData = np.array(data[\"sensor\"])\n",
    "        print(sensorData)\n",
    "        return sensorData\n"
   ]
  },
  {
   "cell_type": "markdown",
   "metadata": {},
   "source": [
    "### Plot Data\n",
    "\n",
    "Use matplotlib matshow to plot the array as a heatmap"
   ]
  },
  {
   "cell_type": "code",
   "execution_count": 41,
   "metadata": {},
   "outputs": [
    {
     "ename": "KeyboardInterrupt",
     "evalue": "",
     "output_type": "error",
     "traceback": [
      "\u001b[0;31m---------------------------------------------------------------------------\u001b[0m",
      "\u001b[0;31mKeyboardInterrupt\u001b[0m                         Traceback (most recent call last)",
      "\u001b[1;32m/Users/yassinkortam/Documents/GitHub/ece3_car/serialPlotter/serialPlot.ipynb Cell 6\u001b[0m in \u001b[0;36m<cell line: 4>\u001b[0;34m()\u001b[0m\n\u001b[1;32m      <a href='vscode-notebook-cell:/Users/yassinkortam/Documents/GitHub/ece3_car/serialPlotter/serialPlot.ipynb#W5sZmlsZQ%3D%3D?line=4'>5</a>\u001b[0m plt\u001b[39m.\u001b[39mfigure()\n\u001b[1;32m      <a href='vscode-notebook-cell:/Users/yassinkortam/Documents/GitHub/ece3_car/serialPlotter/serialPlot.ipynb#W5sZmlsZQ%3D%3D?line=5'>6</a>\u001b[0m plt\u001b[39m.\u001b[39mtitle(\u001b[39m\"\u001b[39m\u001b[39mIR Sensor Output\u001b[39m\u001b[39m\"\u001b[39m)\n\u001b[0;32m----> <a href='vscode-notebook-cell:/Users/yassinkortam/Documents/GitHub/ece3_car/serialPlotter/serialPlot.ipynb#W5sZmlsZQ%3D%3D?line=6'>7</a>\u001b[0m data \u001b[39m=\u001b[39m np\u001b[39m.\u001b[39mexpand_dims(getData(), axis\u001b[39m=\u001b[39m\u001b[39m0\u001b[39m)\n\u001b[1;32m      <a href='vscode-notebook-cell:/Users/yassinkortam/Documents/GitHub/ece3_car/serialPlotter/serialPlot.ipynb#W5sZmlsZQ%3D%3D?line=7'>8</a>\u001b[0m color_map \u001b[39m=\u001b[39m plt\u001b[39m.\u001b[39mimshow(data)\n\u001b[1;32m      <a href='vscode-notebook-cell:/Users/yassinkortam/Documents/GitHub/ece3_car/serialPlotter/serialPlot.ipynb#W5sZmlsZQ%3D%3D?line=8'>9</a>\u001b[0m color_map\u001b[39m.\u001b[39mset_cmap(\u001b[39m\"\u001b[39m\u001b[39mBlues_r\u001b[39m\u001b[39m\"\u001b[39m)\n",
      "\u001b[1;32m/Users/yassinkortam/Documents/GitHub/ece3_car/serialPlotter/serialPlot.ipynb Cell 6\u001b[0m in \u001b[0;36mgetData\u001b[0;34m()\u001b[0m\n\u001b[1;32m      <a href='vscode-notebook-cell:/Users/yassinkortam/Documents/GitHub/ece3_car/serialPlotter/serialPlot.ipynb#W5sZmlsZQ%3D%3D?line=7'>8</a>\u001b[0m \u001b[39mwhile\u001b[39;00m(\u001b[39mTrue\u001b[39;00m):\n\u001b[1;32m      <a href='vscode-notebook-cell:/Users/yassinkortam/Documents/GitHub/ece3_car/serialPlotter/serialPlot.ipynb#W5sZmlsZQ%3D%3D?line=8'>9</a>\u001b[0m     \u001b[39mtry\u001b[39;00m:\n\u001b[0;32m---> <a href='vscode-notebook-cell:/Users/yassinkortam/Documents/GitHub/ece3_car/serialPlotter/serialPlot.ipynb#W5sZmlsZQ%3D%3D?line=9'>10</a>\u001b[0m         dataRead \u001b[39m=\u001b[39m s\u001b[39m.\u001b[39;49mreadline()\u001b[39m.\u001b[39mdecode(\u001b[39m\"\u001b[39m\u001b[39mASCII\u001b[39m\u001b[39m\"\u001b[39m)\n\u001b[1;32m     <a href='vscode-notebook-cell:/Users/yassinkortam/Documents/GitHub/ece3_car/serialPlotter/serialPlot.ipynb#W5sZmlsZQ%3D%3D?line=10'>11</a>\u001b[0m         \u001b[39mif\u001b[39;00m dataRead[\u001b[39m0\u001b[39m] \u001b[39m!=\u001b[39m \u001b[39m'\u001b[39m\u001b[39m{\u001b[39m\u001b[39m'\u001b[39m:\n\u001b[1;32m     <a href='vscode-notebook-cell:/Users/yassinkortam/Documents/GitHub/ece3_car/serialPlotter/serialPlot.ipynb#W5sZmlsZQ%3D%3D?line=11'>12</a>\u001b[0m             \u001b[39mcontinue\u001b[39;00m\n",
      "File \u001b[0;32m/Library/Frameworks/Python.framework/Versions/3.9/lib/python3.9/site-packages/serial/serialposix.py:565\u001b[0m, in \u001b[0;36mSerial.read\u001b[0;34m(self, size)\u001b[0m\n\u001b[1;32m    563\u001b[0m \u001b[39mwhile\u001b[39;00m \u001b[39mlen\u001b[39m(read) \u001b[39m<\u001b[39m size:\n\u001b[1;32m    564\u001b[0m     \u001b[39mtry\u001b[39;00m:\n\u001b[0;32m--> 565\u001b[0m         ready, _, _ \u001b[39m=\u001b[39m select\u001b[39m.\u001b[39;49mselect([\u001b[39mself\u001b[39;49m\u001b[39m.\u001b[39;49mfd, \u001b[39mself\u001b[39;49m\u001b[39m.\u001b[39;49mpipe_abort_read_r], [], [], timeout\u001b[39m.\u001b[39;49mtime_left())\n\u001b[1;32m    566\u001b[0m         \u001b[39mif\u001b[39;00m \u001b[39mself\u001b[39m\u001b[39m.\u001b[39mpipe_abort_read_r \u001b[39min\u001b[39;00m ready:\n\u001b[1;32m    567\u001b[0m             os\u001b[39m.\u001b[39mread(\u001b[39mself\u001b[39m\u001b[39m.\u001b[39mpipe_abort_read_r, \u001b[39m1000\u001b[39m)\n",
      "\u001b[0;31mKeyboardInterrupt\u001b[0m: "
     ]
    },
    {
     "data": {
      "image/png": "[encoded data removed]",
      "text/plain": [
       "<Figure size 432x288 with 1 Axes>"
      ]
     },
     "metadata": {
      "needs_background": "light"
     },
     "output_type": "display_data"
    }
   ],
   "source": [
    "from IPython import display\n",
    "\n",
    "while(True):\n",
    "    display.clear_output(wait=True)\n",
    "    plt.figure()\n",
    "    plt.title(\"IR Sensor Output\")\n",
    "    data = np.expand_dims(getData(), axis=0)\n",
    "    color_map = plt.imshow(data)\n",
    "    color_map.set_cmap(\"Blues_r\")\n",
    "    plt.colorbar()\n",
    "    plt.show()\n"
   ]
  }
 ],
 "metadata": {
  "kernelspec": {
   "display_name": "Python 3.9.2 64-bit",
   "language": "python",
   "name": "python3"
  },
  "language_info": {
   "codemirror_mode": {
    "name": "ipython",
    "version": 3
   },
   "file_extension": ".py",
   "mimetype": "text/x-python",
   "name": "python",
   "nbconvert_exporter": "python",
   "pygments_lexer": "ipython3",
   "version": "3.9.2"
  },
  "orig_nbformat": 4,
  "vscode": {
   "interpreter": {
    "hash": "aee8b7b246df8f9039afb4144a1f6fd8d2ca17a180786b69acc140d282b71a49"
   }
  }
 },
 "nbformat": 4,
 "nbformat_minor": 2
}
